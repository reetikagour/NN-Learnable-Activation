{
  "nbformat": 4,
  "nbformat_minor": 0,
  "metadata": {
    "colab": {
      "name": "Artificial_neural_network.ipynb",
      "provenance": [],
      "collapsed_sections": []
    },
    "kernelspec": {
      "name": "python3",
      "display_name": "Python 3"
    },
    "language_info": {
      "name": "python"
    }
  },
  "cells": [
    {
      "cell_type": "markdown",
      "metadata": {
        "id": "eUiZyfmV-nn1"
      },
      "source": [
        "## **Name:- Reetika Gour**"
      ]
    },
    {
      "cell_type": "code",
      "metadata": {
        "id": "kgRWiz8lnIE2"
      },
      "source": [
        "import numpy as np\n",
        "import pandas as pd\n",
        "import matplotlib.pyplot as plt\n",
        "from sklearn.model_selection import train_test_split\n",
        "from sklearn.metrics import f1_score\n",
        "import seaborn as sns\n",
        "import warnings\n",
        "warnings.simplefilter(action='ignore', category=FutureWarning) "
      ],
      "execution_count": 45,
      "outputs": []
    },
    {
      "cell_type": "code",
      "metadata": {
        "id": "iOiu-8Vd4D8T"
      },
      "source": [
        "data = pd.read_csv(\"/content/drive/MyDrive/mnist_train_unzipped/mnist_train.csv\")"
      ],
      "execution_count": 6,
      "outputs": []
    },
    {
      "cell_type": "code",
      "metadata": {
        "id": "3ipPNRSHIeyT"
      },
      "source": [
        "train_df, test_df = train_test_split(data, test_size=0.2)  #Split data into train and test.\n",
        "train_labels = train_df[\"label\"]\n",
        "test_labels =test_df[\"label\"]\n",
        "train_data = train_df.drop(\"label\",axis=1)\n",
        "test_data = test_df.drop(\"label\", axis=1)\n",
        "train_data = np.array(train_data.T)/255.\n",
        "test_data = np.array(test_data.T)/255.      #Normalize the data.\n",
        "n, m = train_data.shape"
      ],
      "execution_count": 8,
      "outputs": []
    },
    {
      "cell_type": "code",
      "metadata": {
        "id": "4_eg2KHqicB_"
      },
      "source": [
        "def init_params(): #Initialize Parameters.\n",
        "    W1 = np.random.rand(10, 784) - 0.5\n",
        "    b1 = np.random.rand(10, 1) - 0.5\n",
        "    W2 = np.random.rand(10, 10) - 0.5 \n",
        "    b2 = np.random.rand(10, 1) - 0.5\n",
        "    W3 = np.random.rand(10, 10) - 0.5\n",
        "    b3 = np.random.rand(10, 1) - 0.5\n",
        "    k0 = np.random.rand(1)\n",
        "    k1 = np.random.rand(1)\n",
        "    return W1, b1, W2, b2, W3, b3, k0, k1 \n",
        "\n",
        "def activaton(Z, k0, k1):  #Define activation function.\n",
        "    return k0 +(k1*Z)\n",
        "\n",
        "def softmax(Z):            #Define softmax function\n",
        "    A = np.exp(Z) / sum(np.exp(Z))\n",
        "    return A\n",
        "    \n",
        "def forward_prop(W1, b1, W2, b2, W3, b3, k0, k1, X):   #Define forward propagation.\n",
        "    Z1 = W1.dot(X) + b1\n",
        "    A1 = activaton(Z1, k0, k1)\n",
        "    Z2 = W2.dot(A1) + b2\n",
        "    A2 = activaton(Z2, k0, k1)\n",
        "    Z3 = W3.dot(A2) + b3\n",
        "    A3 = softmax(Z3)\n",
        "    return Z1, A1, Z2, A2, Z3, A3\n",
        "\n",
        "def actva_deri(Z, k0, k1):     #Derivative of activation function.\n",
        "    return k1\n",
        "\n",
        "def one_hot(Y):                #One hot encoding for labels.\n",
        "    one_hot_Y = np.zeros((Y.size, Y.max() + 1))\n",
        "    one_hot_Y[np.arange(Y.size), Y] = 1\n",
        "    one_hot_Y = one_hot_Y.T\n",
        "    return one_hot_Y\n",
        "\n",
        "def backward_prop(Z1, A1, Z2, A2, Z3, A3, W1, W2, W3, k0, k1, X, Y):    #define backward propagation.\n",
        "    one_hot_Y = one_hot(Y)\n",
        "    dZ3 = A3 - one_hot_Y\n",
        "    dW3 = 1 / m * dZ3.dot(A2.T)\n",
        "    db3 = 1 / m * np.sum(dZ3)\n",
        "    dA2 = W3.T.dot(dZ3)\n",
        "    dZ2 = W3.T.dot(dZ3) * actva_deri(Z2, k0, k1)\n",
        "    dW2 = 1 / m * dZ2.dot(A1.T)\n",
        "    db2 = 1 / m * np.sum(dZ2)\n",
        "    dA1 = W2.T.dot(dZ2)\n",
        "    dZ1 = W2.T.dot(dZ2) * actva_deri(Z1, k0, k1)\n",
        "    dW1 = 1 / m * dZ1.dot(X.T)\n",
        "    db1 = 1 / m * np.sum(dZ1)\n",
        "    dk0 = np.average(dA1)\n",
        "    dk1 = np.average(dA1*Z1)\n",
        "    return dW1, db1, dW2, db2, dW3, db3, dk0, dk1\n",
        "\n",
        "def update_params(W1, b1, W2, b2, W3, b3, k0, k1, dW1, db1, dW2, db2, dW3, db3, dk0, dk1, alpha):    #Update parameters.\n",
        "    W1 = W1 - alpha * dW1\n",
        "    b1 = b1 - alpha * db1    \n",
        "    W2 = W2 - alpha * dW2  \n",
        "    b2 = b2 - alpha * db2\n",
        "    W3 = W3 - alpha * dW3  \n",
        "    b3 = b3 - alpha * db3\n",
        "    k0 = k0 - alpha * dk0\n",
        "    k1 = k1 - alpha * dk1    \n",
        "    return W1, b1, W2, b2, W3, b3, k0, k1"
      ],
      "execution_count": 9,
      "outputs": []
    },
    {
      "cell_type": "code",
      "metadata": {
        "id": "AokygQYlrmqI"
      },
      "source": [
        "def loss_crossentropy(probas, y):          #Categorical cross entopy loss function.\n",
        "  tanspose_probas = probas.T\n",
        "  transpose_y = y.T\n",
        "  training_point_loss = []\n",
        "  for list_1, list_2 in zip(tanspose_probas, transpose_y):\n",
        "    for i, j in zip(list_1, list_2):\n",
        "      training_point_loss.append(np.sum(np.log(i)*(-j)))\n",
        "  total_loss = np.mean(training_point_loss)\n",
        "  return total_loss\n",
        "\n",
        "def get_predictions(A3):                   #make Predictions\n",
        "    return np.argmax(A3, 0)\n",
        "\n",
        "def get_accuracy(predictions, Y):          #Define accuracy\n",
        "    return np.sum(predictions == Y) / Y.size\n",
        "\n",
        "def Test_loss_accuracy(X, W1, b1, W2, b2, W3, b3, k0, k1):     #loss-accuracy calculation for test data.\n",
        "    Z1, A1, Z2, A2, Z3, A3 = forward_prop(W1, b1, W2, b2, W3, b3, k0, k1, X)\n",
        "    Test_loss = loss_crossentropy(A3, one_hot(test_labels))\n",
        "    Test_accuracy = get_accuracy(get_predictions(A3), test_labels)\n",
        "    return Test_loss, Test_accuracy    "
      ],
      "execution_count": 10,
      "outputs": []
    },
    {
      "cell_type": "code",
      "metadata": {
        "id": "VtgLd9tRsiBt"
      },
      "source": [
        "def gradient_descent(X, Y, alpha, iterations):\n",
        "    W1, b1, W2, b2, W3, b3, k0, k1 = init_params()\n",
        "    Train_loss_lst, Train_accuracy_lst, Test_loss_lst, Test_accuracy_lst = [], [], [], []\n",
        "    for i in range(iterations):\n",
        "        Z1, A1, Z2, A2, Z3, A3 = forward_prop(W1, b1, W2, b2, W3, b3, k0, k1, X)\n",
        "        dW1, db1, dW2, db2, dW3, db3, dk0, dk1 = backward_prop(Z1, A1, Z2, A2, Z3, A3, W1, W2, W3, k0, k1, X, Y)\n",
        "        W1, b1, W2, b2, W3, b3, k0, k1 = update_params(W1, b1, W2, b2, W3, b3, k0, k1, dW1, db1, dW2, db2, dW3, db3, dk0, dk1,alpha)\n",
        "        if i % 10 == 0:\n",
        "          print(\"\\033[1m\" + \"Iteration\" + \"\\033[0m\", i)\n",
        "          total_loss = loss_crossentropy(A3, one_hot(Y))\n",
        "          Train_accuracy = get_accuracy(get_predictions(A3), Y)\n",
        "          Test_loss, Test_accuracy = Test_loss_accuracy(test_data, W1, b1, W2, b2, W3, b3, k0, k1)\n",
        "          Train_loss_lst.append(total_loss), Train_accuracy_lst.append(Train_accuracy), Test_loss_lst.append(Test_loss), Test_accuracy_lst.append(Test_accuracy)\n",
        "          print(\"k0 and k1:\", k0, k1)\n",
        "    return W1, b1, W2, b2, W3, b3, k0, k1, Train_loss_lst, Train_accuracy_lst, Test_loss_lst, Test_accuracy_lst"
      ],
      "execution_count": 23,
      "outputs": []
    },
    {
      "cell_type": "markdown",
      "metadata": {
        "id": "dhvRThJeAIt1"
      },
      "source": [
        "#### **Model training.**"
      ]
    },
    {
      "cell_type": "code",
      "metadata": {
        "colab": {
          "base_uri": "https://localhost:8080/",
          "height": 0
        },
        "id": "0zb1Y24psmrf",
        "outputId": "f22d944e-f02a-49bf-bdea-07960fdf5dbc"
      },
      "source": [
        "W1, b1, W2, b2, W3, b3, k0, k1, Train_loss_lst, Train_accuracy_lst, Test_loss_lst, Test_accuracy_lst = gradient_descent(train_data, train_labels, 0.10, 500)"
      ],
      "execution_count": 24,
      "outputs": [
        {
          "output_type": "stream",
          "text": [
            "\u001b[1mIteration\u001b[0m 0\n",
            "k0 and k1: [0.32337364] [0.62979075]\n",
            "\u001b[1mIteration\u001b[0m 10\n",
            "k0 and k1: [0.3193233] [0.61486158]\n",
            "\u001b[1mIteration\u001b[0m 20\n",
            "k0 and k1: [0.31575806] [0.63227226]\n",
            "\u001b[1mIteration\u001b[0m 30\n",
            "k0 and k1: [0.31321443] [0.66437872]\n",
            "\u001b[1mIteration\u001b[0m 40\n",
            "k0 and k1: [0.31193673] [0.70133117]\n",
            "\u001b[1mIteration\u001b[0m 50\n",
            "k0 and k1: [0.31127478] [0.73654683]\n",
            "\u001b[1mIteration\u001b[0m 60\n",
            "k0 and k1: [0.31050144] [0.76670131]\n",
            "\u001b[1mIteration\u001b[0m 70\n",
            "k0 and k1: [0.30963205] [0.79071048]\n",
            "\u001b[1mIteration\u001b[0m 80\n",
            "k0 and k1: [0.30884583] [0.80900672]\n",
            "\u001b[1mIteration\u001b[0m 90\n",
            "k0 and k1: [0.30818419] [0.82269646]\n",
            "\u001b[1mIteration\u001b[0m 100\n",
            "k0 and k1: [0.3076251] [0.83294297]\n",
            "\u001b[1mIteration\u001b[0m 110\n",
            "k0 and k1: [0.3071379] [0.84072317]\n",
            "\u001b[1mIteration\u001b[0m 120\n",
            "k0 and k1: [0.30669712] [0.84677464]\n",
            "\u001b[1mIteration\u001b[0m 130\n",
            "k0 and k1: [0.3062841] [0.85162119]\n",
            "\u001b[1mIteration\u001b[0m 140\n",
            "k0 and k1: [0.30588595] [0.8556222]\n",
            "\u001b[1mIteration\u001b[0m 150\n",
            "k0 and k1: [0.30549428] [0.85902025]\n",
            "\u001b[1mIteration\u001b[0m 160\n",
            "k0 and k1: [0.30510398] [0.86197831]\n",
            "\u001b[1mIteration\u001b[0m 170\n",
            "k0 and k1: [0.30471227] [0.86460624]\n",
            "\u001b[1mIteration\u001b[0m 180\n",
            "k0 and k1: [0.30431793] [0.86697874]\n",
            "\u001b[1mIteration\u001b[0m 190\n",
            "k0 and k1: [0.30392077] [0.86914726]\n",
            "\u001b[1mIteration\u001b[0m 200\n",
            "k0 and k1: [0.30352119] [0.87114784]\n",
            "\u001b[1mIteration\u001b[0m 210\n",
            "k0 and k1: [0.30311994] [0.87300627]\n",
            "\u001b[1mIteration\u001b[0m 220\n",
            "k0 and k1: [0.30271795] [0.87474147]\n",
            "\u001b[1mIteration\u001b[0m 230\n",
            "k0 and k1: [0.30231618] [0.87636772]\n",
            "\u001b[1mIteration\u001b[0m 240\n",
            "k0 and k1: [0.30191554] [0.87789613]\n",
            "\u001b[1mIteration\u001b[0m 250\n",
            "k0 and k1: [0.30151692] [0.87933565]\n",
            "\u001b[1mIteration\u001b[0m 260\n",
            "k0 and k1: [0.30112108] [0.8806937]\n",
            "\u001b[1mIteration\u001b[0m 270\n",
            "k0 and k1: [0.30072871] [0.88197662]\n",
            "\u001b[1mIteration\u001b[0m 280\n",
            "k0 and k1: [0.30034041] [0.88318993]\n",
            "\u001b[1mIteration\u001b[0m 290\n",
            "k0 and k1: [0.29995668] [0.88433858]\n",
            "\u001b[1mIteration\u001b[0m 300\n",
            "k0 and k1: [0.29957792] [0.88542703]\n",
            "\u001b[1mIteration\u001b[0m 310\n",
            "k0 and k1: [0.29920447] [0.88645936]\n",
            "\u001b[1mIteration\u001b[0m 320\n",
            "k0 and k1: [0.29883661] [0.88743936]\n",
            "\u001b[1mIteration\u001b[0m 330\n",
            "k0 and k1: [0.29847453] [0.88837055]\n",
            "\u001b[1mIteration\u001b[0m 340\n",
            "k0 and k1: [0.29811839] [0.88925622]\n",
            "\u001b[1mIteration\u001b[0m 350\n",
            "k0 and k1: [0.29776828] [0.89009948]\n",
            "\u001b[1mIteration\u001b[0m 360\n",
            "k0 and k1: [0.29742428] [0.89090325]\n",
            "\u001b[1mIteration\u001b[0m 370\n",
            "k0 and k1: [0.29708638] [0.89167028]\n",
            "\u001b[1mIteration\u001b[0m 380\n",
            "k0 and k1: [0.2967546] [0.89240319]\n",
            "\u001b[1mIteration\u001b[0m 390\n",
            "k0 and k1: [0.29642887] [0.89310442]\n",
            "\u001b[1mIteration\u001b[0m 400\n",
            "k0 and k1: [0.29610914] [0.8937763]\n",
            "\u001b[1mIteration\u001b[0m 410\n",
            "k0 and k1: [0.29579532] [0.89442101]\n",
            "\u001b[1mIteration\u001b[0m 420\n",
            "k0 and k1: [0.29548731] [0.89504058]\n",
            "\u001b[1mIteration\u001b[0m 430\n",
            "k0 and k1: [0.29518498] [0.89563693]\n",
            "\u001b[1mIteration\u001b[0m 440\n",
            "k0 and k1: [0.29488822] [0.89621186]\n",
            "\u001b[1mIteration\u001b[0m 450\n",
            "k0 and k1: [0.29459688] [0.89676702]\n",
            "\u001b[1mIteration\u001b[0m 460\n",
            "k0 and k1: [0.2943108] [0.89730398]\n",
            "\u001b[1mIteration\u001b[0m 470\n",
            "k0 and k1: [0.29402985] [0.89782417]\n",
            "\u001b[1mIteration\u001b[0m 480\n",
            "k0 and k1: [0.29375386] [0.89832894]\n",
            "\u001b[1mIteration\u001b[0m 490\n",
            "k0 and k1: [0.29348267] [0.89881953]\n"
          ],
          "name": "stdout"
        }
      ]
    },
    {
      "cell_type": "markdown",
      "metadata": {
        "id": "mv1jx9i1ATX5"
      },
      "source": [
        "#### **Train_vs_Test Loss and Train_vs_Test Accuracy.**"
      ]
    },
    {
      "cell_type": "code",
      "metadata": {
        "colab": {
          "base_uri": "https://localhost:8080/",
          "height": 281
        },
        "id": "ft5hVUa7NwhK",
        "outputId": "bcbce7ea-62a8-4ae1-9553-d7ea43a44434"
      },
      "source": [
        "fig, (ax1, ax2) = plt.subplots(1,2, figsize=(10,4))\n",
        "epochs = list(range(0,500, 10))\n",
        "sns.lineplot(epochs,Train_loss_lst,label='train_loss', ax=ax1)\n",
        "sns.lineplot(epochs,Test_loss_lst,label='test_loss', ax=ax1)\n",
        "sns.lineplot(epochs,Train_accuracy_lst,label='train_accuracy', ax=ax2)\n",
        "sns.lineplot(epochs,Test_accuracy_lst,label='test_accuracy', ax=ax2)\n",
        "ax1.title.set_text(\"Train vs Test loss\")\n",
        "ax2.title.set_text(\"Train vs Test Accuracy\")\n",
        "plt.show()"
      ],
      "execution_count": 47,
      "outputs": [
        {
          "output_type": "display_data",
          "data": {
            "image/png": "[encoded data removed]",
            "text/plain": [
              "<Figure size 720x288 with 2 Axes>"
            ]
          },
          "metadata": {
            "tags": [],
            "needs_background": "light"
          }
        }
      ]
    },
    {
      "cell_type": "markdown",
      "metadata": {
        "id": "V6AcTbRoAhvx"
      },
      "source": [
        "#### **Final values for parameters k0 and k1.**"
      ]
    },
    {
      "cell_type": "code",
      "metadata": {
        "colab": {
          "base_uri": "https://localhost:8080/",
          "height": 0
        },
        "id": "DGlGhd5d4dOB",
        "outputId": "bd1e1639-fa5f-411d-9b61-c5d6f1f16cd6"
      },
      "source": [
        "print(\"k0:\", k0)\n",
        "print(\"k1:\", k1)"
      ],
      "execution_count": 19,
      "outputs": [
        {
          "output_type": "stream",
          "text": [
            "k0: [0.41525014]\n",
            "k1: [0.98952922]\n"
          ],
          "name": "stdout"
        }
      ]
    },
    {
      "cell_type": "code",
      "metadata": {
        "id": "udFhNE3E1DOj"
      },
      "source": [
        "def make_predictions(X, W1, b1, W2, b2, W3, b3, k0, k1):\n",
        "  Z1, A1, Z2, A2, Z3, A3 = forward_prop(W1, b1, W2, b2, W3, b3, k0, k1, X)\n",
        "  predict_labels = get_predictions(A3)\n",
        "  return predict_labels"
      ],
      "execution_count": 20,
      "outputs": []
    },
    {
      "cell_type": "markdown",
      "metadata": {
        "id": "U4wGl3vYIsu-"
      },
      "source": [
        "**F1-Score.**"
      ]
    },
    {
      "cell_type": "code",
      "metadata": {
        "id": "ehqp08En2HCA",
        "colab": {
          "base_uri": "https://localhost:8080/",
          "height": 0
        },
        "outputId": "c1fa54ca-ac64-4094-c6cd-0609a8cf791a"
      },
      "source": [
        "prdicted_labels = make_predictions(test_data, W1, b1, W2, b2, W3, b3, k0, k1)\n",
        "ture_labels = test_labels\n",
        "print(f1_score(ture_labels, prdicted_labels, average='weighted'))"
      ],
      "execution_count": 22,
      "outputs": [
        {
          "output_type": "stream",
          "text": [
            "0.859968703772787\n"
          ],
          "name": "stdout"
        }
      ]
    }
  ]
}