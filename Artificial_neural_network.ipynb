{
  "nbformat": 4,
  "nbformat_minor": 0,
  "metadata": {
    "colab": {
      "name": "Artificial_neural_network.ipynb",
      "provenance": [],
      "collapsed_sections": []
    },
    "kernelspec": {
      "name": "python3",
      "display_name": "Python 3"
    },
    "language_info": {
      "name": "python"
    }
  },
  "cells": [
    {
      "cell_type": "code",
      "metadata": {
        "id": "kgRWiz8lnIE2"
      },
      "source": [
        "import numpy as np\n",
        "import pandas as pd\n",
        "import matplotlib.pyplot as plt\n",
        "from sklearn.model_selection import train_test_split\n",
        "from sklearn.metrics import f1_score\n",
        "import seaborn as sns\n",
        "import warnings\n",
        "warnings.simplefilter(action='ignore', category=FutureWarning) "
      ],
      "execution_count": 1,
      "outputs": []
    },
    {
      "cell_type": "code",
      "metadata": {
        "colab": {
          "base_uri": "https://localhost:8080/"
        },
        "id": "z3rrRxyEK5Il",
        "outputId": "0f06494c-0714-4f72-c58e-156d8be495cd"
      },
      "source": [
        "from google.colab import drive\n",
        "\n",
        "drive.mount('/content/drive')"
      ],
      "execution_count": 2,
      "outputs": [
        {
          "output_type": "stream",
          "text": [
            "Mounted at /content/drive\n"
          ],
          "name": "stdout"
        }
      ]
    },
    {
      "cell_type": "code",
      "metadata": {
        "id": "iOiu-8Vd4D8T"
      },
      "source": [
        "data = pd.read_csv(\"/content/drive/MyDrive/mnist_train_unzipped/mnist_train.csv\")"
      ],
      "execution_count": 3,
      "outputs": []
    },
    {
      "cell_type": "code",
      "metadata": {
        "colab": {
          "base_uri": "https://localhost:8080/",
          "height": 176
        },
        "id": "GDewTfMuKluw",
        "outputId": "49d533f8-ff10-4d9c-dfc3-861e3a403f5a"
      },
      "source": [
        "# Display or plot an image\n",
        "def display_image(idx):\n",
        "  plt.figure(figsize=(2,2))\n",
        "  labels = data[\"label\"]\n",
        "  data_drop_label = data.drop([\"label\"], axis=1)\n",
        "  grid_data = data_drop_label.iloc[idx].to_numpy().reshape(28,28)  # reshape from 1d to 2d pixel array\n",
        "  plt.imshow(grid_data, interpolation = \"none\", cmap = \"gray\")\n",
        "  plt.show()\n",
        "\n",
        "  print(\"Lable:\", labels[idx])\n",
        "\n",
        "display_image(0)"
      ],
      "execution_count": 28,
      "outputs": [
        {
          "output_type": "display_data",
          "data": {
            "image/png": "[encoded data removed]",
            "text/plain": [
              "<Figure size 144x144 with 1 Axes>"
            ]
          },
          "metadata": {
            "tags": [],
            "needs_background": "light"
          }
        },
        {
          "output_type": "stream",
          "text": [
            "Lable: 5\n"
          ],
          "name": "stdout"
        }
      ]
    },
    {
      "cell_type": "code",
      "metadata": {
        "id": "3ipPNRSHIeyT"
      },
      "source": [
        "train_df, test_df = train_test_split(data, test_size=0.2)  #Split data into train and test.\n",
        "train_labels = train_df[\"label\"]\n",
        "test_labels =test_df[\"label\"]\n",
        "train_data = train_df.drop(\"label\",axis=1)\n",
        "test_data = test_df.drop(\"label\", axis=1)\n",
        "train_data = np.array(train_data.T)/255.\n",
        "test_data = np.array(test_data.T)/255.      #Normalize the data.\n",
        "n, m = train_data.shape"
      ],
      "execution_count": 4,
      "outputs": []
    },
    {
      "cell_type": "code",
      "metadata": {
        "id": "4_eg2KHqicB_"
      },
      "source": [
        "def init_params(): #Initialize Parameters.\n",
        "    W1 = np.random.rand(10, 784) - 0.5\n",
        "    b1 = np.random.rand(10, 1) - 0.5\n",
        "    W2 = np.random.rand(10, 10) - 0.5 \n",
        "    b2 = np.random.rand(10, 1) - 0.5\n",
        "    W3 = np.random.rand(10, 10) - 0.5\n",
        "    b3 = np.random.rand(10, 1) - 0.5\n",
        "    k0 = np.random.rand(1)\n",
        "    k1 = np.random.rand(1)\n",
        "    return W1, b1, W2, b2, W3, b3, k0, k1 \n",
        "\n",
        "def activaton(Z, k0, k1):  #Define activation function.\n",
        "    return k0 +(k1*Z)\n",
        "\n",
        "def softmax(Z):            #Define softmax function\n",
        "    A = np.exp(Z) / sum(np.exp(Z))\n",
        "    return A\n",
        "    \n",
        "def forward_prop(W1, b1, W2, b2, W3, b3, k0, k1, X):   #Define forward propagation.\n",
        "    Z1 = W1.dot(X) + b1\n",
        "    A1 = activaton(Z1, k0, k1)\n",
        "    Z2 = W2.dot(A1) + b2\n",
        "    A2 = activaton(Z2, k0, k1)\n",
        "    Z3 = W3.dot(A2) + b3\n",
        "    A3 = softmax(Z3)\n",
        "    return Z1, A1, Z2, A2, Z3, A3\n",
        "\n",
        "def actva_deri(Z, k0, k1):     #Derivative of activation function.\n",
        "    return k1\n",
        "\n",
        "def one_hot(Y):                #One hot encoding for labels.\n",
        "    one_hot_Y = np.zeros((Y.size, Y.max() + 1))\n",
        "    one_hot_Y[np.arange(Y.size), Y] = 1\n",
        "    one_hot_Y = one_hot_Y.T\n",
        "    return one_hot_Y\n",
        "\n",
        "def backward_prop(Z1, A1, Z2, A2, Z3, A3, W1, W2, W3, k0, k1, X, Y):    #define backward propagation.\n",
        "    one_hot_Y = one_hot(Y)\n",
        "    dZ3 = A3 - one_hot_Y\n",
        "    dW3 = 1 / m * dZ3.dot(A2.T)\n",
        "    db3 = 1 / m * np.sum(dZ3)\n",
        "    dA2 = W3.T.dot(dZ3)\n",
        "    dZ2 = W3.T.dot(dZ3) * actva_deri(Z2, k0, k1)\n",
        "    dW2 = 1 / m * dZ2.dot(A1.T)\n",
        "    db2 = 1 / m * np.sum(dZ2)\n",
        "    dA1 = W2.T.dot(dZ2)\n",
        "    dZ1 = W2.T.dot(dZ2) * actva_deri(Z1, k0, k1)\n",
        "    dW1 = 1 / m * dZ1.dot(X.T)\n",
        "    db1 = 1 / m * np.sum(dZ1)\n",
        "    dk0 = np.average(dA1)\n",
        "    dk1 = np.average(dA1*Z1)\n",
        "    return dW1, db1, dW2, db2, dW3, db3, dk0, dk1\n",
        "\n",
        "def update_params(W1, b1, W2, b2, W3, b3, k0, k1, dW1, db1, dW2, db2, dW3, db3, dk0, dk1, alpha):    #Update parameters.\n",
        "    W1 = W1 - alpha * dW1\n",
        "    b1 = b1 - alpha * db1    \n",
        "    W2 = W2 - alpha * dW2  \n",
        "    b2 = b2 - alpha * db2\n",
        "    W3 = W3 - alpha * dW3  \n",
        "    b3 = b3 - alpha * db3\n",
        "    k0 = k0 - alpha * dk0\n",
        "    k1 = k1 - alpha * dk1    \n",
        "    return W1, b1, W2, b2, W3, b3, k0, k1"
      ],
      "execution_count": 5,
      "outputs": []
    },
    {
      "cell_type": "code",
      "metadata": {
        "id": "AokygQYlrmqI"
      },
      "source": [
        "def loss_crossentropy(probas, y):          #Categorical cross entopy loss function.\n",
        "  tanspose_probas = probas.T\n",
        "  transpose_y = y.T\n",
        "  training_point_loss = []\n",
        "  for list_1, list_2 in zip(tanspose_probas, transpose_y):\n",
        "    for i, j in zip(list_1, list_2):\n",
        "      training_point_loss.append(np.sum(np.log(i)*(-j)))\n",
        "  total_loss = np.mean(training_point_loss)\n",
        "  return total_loss\n",
        "\n",
        "def get_predictions(A3):                   #make Predictions\n",
        "    return np.argmax(A3, 0)\n",
        "\n",
        "def get_accuracy(predictions, Y):          #Define accuracy\n",
        "    return np.sum(predictions == Y) / Y.size\n",
        "\n",
        "def Test_loss_accuracy(X, W1, b1, W2, b2, W3, b3, k0, k1):     #loss-accuracy calculation for test data.\n",
        "    Z1, A1, Z2, A2, Z3, A3 = forward_prop(W1, b1, W2, b2, W3, b3, k0, k1, X)\n",
        "    Test_loss = loss_crossentropy(A3, one_hot(test_labels))\n",
        "    Test_accuracy = get_accuracy(get_predictions(A3), test_labels)\n",
        "    return Test_loss, Test_accuracy    "
      ],
      "execution_count": 6,
      "outputs": []
    },
    {
      "cell_type": "code",
      "metadata": {
        "id": "VtgLd9tRsiBt"
      },
      "source": [
        "def gradient_descent(X, Y, alpha, iterations):\n",
        "    W1, b1, W2, b2, W3, b3, k0, k1 = init_params()\n",
        "    print(\"Initial k0:\", k0)\n",
        "    print(\"Initial k1:\", k1)\n",
        "    Train_loss_lst, Train_accuracy_lst, Test_loss_lst, Test_accuracy_lst, k0_lst, k1_lst = [], [], [], [], [], []\n",
        "    for i in range(iterations):\n",
        "        Z1, A1, Z2, A2, Z3, A3 = forward_prop(W1, b1, W2, b2, W3, b3, k0, k1, X)\n",
        "        dW1, db1, dW2, db2, dW3, db3, dk0, dk1 = backward_prop(Z1, A1, Z2, A2, Z3, A3, W1, W2, W3, k0, k1, X, Y)\n",
        "        W1, b1, W2, b2, W3, b3, k0, k1 = update_params(W1, b1, W2, b2, W3, b3, k0, k1, dW1, db1, dW2, db2, dW3, db3, dk0, dk1,alpha)\n",
        "        if i % 10 == 0:\n",
        "          print(\"\\033[1m\" + \"Iteration\" + \"\\033[0m\", i)\n",
        "          total_loss = loss_crossentropy(A3, one_hot(Y))\n",
        "          Train_accuracy = get_accuracy(get_predictions(A3), Y)\n",
        "          Test_loss, Test_accuracy = Test_loss_accuracy(test_data, W1, b1, W2, b2, W3, b3, k0, k1)\n",
        "          Train_loss_lst.append(total_loss), Train_accuracy_lst.append(Train_accuracy), Test_loss_lst.append(Test_loss), Test_accuracy_lst.append(Test_accuracy)\n",
        "          k0_lst.append(k0)\n",
        "          k1_lst.append(k1)\n",
        "          print(\"k0 and k1:\", k0, k1)\n",
        "    return W1, b1, W2, b2, W3, b3, k0, k1, Train_loss_lst, Train_accuracy_lst, Test_loss_lst, Test_accuracy_lst, k0_lst, k1_lst "
      ],
      "execution_count": 9,
      "outputs": []
    },
    {
      "cell_type": "markdown",
      "metadata": {
        "id": "dhvRThJeAIt1"
      },
      "source": [
        "#### **Model training.**"
      ]
    },
    {
      "cell_type": "code",
      "metadata": {
        "colab": {
          "base_uri": "https://localhost:8080/"
        },
        "id": "0zb1Y24psmrf",
        "outputId": "df77704f-bc02-44cb-af41-d1a63ae47d4b"
      },
      "source": [
        "W1, b1, W2, b2, W3, b3, k0, k1, Train_loss_lst, Train_accuracy_lst, Test_loss_lst, Test_accuracy_lst, k0_lst, k1_lst = gradient_descent(train_data, train_labels, 0.10, 500)"
      ],
      "execution_count": 29,
      "outputs": [
        {
          "output_type": "stream",
          "text": [
            "Initial k0: [0.60127614]\n",
            "Initial k1: [0.42923105]\n",
            "\u001b[1mIteration\u001b[0m 0\n",
            "k0 and k1: [0.59968832] [0.42470673]\n",
            "\u001b[1mIteration\u001b[0m 10\n",
            "k0 and k1: [0.59685523] [0.40962832]\n",
            "\u001b[1mIteration\u001b[0m 20\n",
            "k0 and k1: [0.59680286] [0.41193934]\n",
            "\u001b[1mIteration\u001b[0m 30\n",
            "k0 and k1: [0.59652712] [0.42406001]\n",
            "\u001b[1mIteration\u001b[0m 40\n",
            "k0 and k1: [0.59587556] [0.44519756]\n",
            "\u001b[1mIteration\u001b[0m 50\n",
            "k0 and k1: [0.59497202] [0.47558141]\n",
            "\u001b[1mIteration\u001b[0m 60\n",
            "k0 and k1: [0.59397535] [0.51424065]\n",
            "\u001b[1mIteration\u001b[0m 70\n",
            "k0 and k1: [0.59298918] [0.55713446]\n",
            "\u001b[1mIteration\u001b[0m 80\n",
            "k0 and k1: [0.59196938] [0.59852342]\n",
            "\u001b[1mIteration\u001b[0m 90\n",
            "k0 and k1: [0.59076568] [0.63536302]\n",
            "\u001b[1mIteration\u001b[0m 100\n",
            "k0 and k1: [0.58931194] [0.66769032]\n",
            "\u001b[1mIteration\u001b[0m 110\n",
            "k0 and k1: [0.58764096] [0.69605339]\n",
            "\u001b[1mIteration\u001b[0m 120\n",
            "k0 and k1: [0.58581511] [0.72069936]\n",
            "\u001b[1mIteration\u001b[0m 130\n",
            "k0 and k1: [0.58389858] [0.74200866]\n",
            "\u001b[1mIteration\u001b[0m 140\n",
            "k0 and k1: [0.58195192] [0.76043242]\n",
            "\u001b[1mIteration\u001b[0m 150\n",
            "k0 and k1: [0.58002707] [0.77634257]\n",
            "\u001b[1mIteration\u001b[0m 160\n",
            "k0 and k1: [0.57815746] [0.79002725]\n",
            "\u001b[1mIteration\u001b[0m 170\n",
            "k0 and k1: [0.57635891] [0.80173189]\n",
            "\u001b[1mIteration\u001b[0m 180\n",
            "k0 and k1: [0.57463633] [0.81169474]\n",
            "\u001b[1mIteration\u001b[0m 190\n",
            "k0 and k1: [0.57298981] [0.82015471]\n",
            "\u001b[1mIteration\u001b[0m 200\n",
            "k0 and k1: [0.57141808] [0.82733921]\n",
            "\u001b[1mIteration\u001b[0m 210\n",
            "k0 and k1: [0.56991966] [0.83345089]\n",
            "\u001b[1mIteration\u001b[0m 220\n",
            "k0 and k1: [0.56849309] [0.83866245]\n",
            "\u001b[1mIteration\u001b[0m 230\n",
            "k0 and k1: [0.56713665] [0.84311794]\n",
            "\u001b[1mIteration\u001b[0m 240\n",
            "k0 and k1: [0.56584825] [0.84693695]\n",
            "\u001b[1mIteration\u001b[0m 250\n",
            "k0 and k1: [0.56462537] [0.85021918]\n",
            "\u001b[1mIteration\u001b[0m 260\n",
            "k0 and k1: [0.56346515] [0.85304817]\n",
            "\u001b[1mIteration\u001b[0m 270\n",
            "k0 and k1: [0.56236452] [0.85549426]\n",
            "\u001b[1mIteration\u001b[0m 280\n",
            "k0 and k1: [0.56132028] [0.85761682]\n",
            "\u001b[1mIteration\u001b[0m 290\n",
            "k0 and k1: [0.56032923] [0.859466]\n",
            "\u001b[1mIteration\u001b[0m 300\n",
            "k0 and k1: [0.55938821] [0.86108411]\n",
            "\u001b[1mIteration\u001b[0m 310\n",
            "k0 and k1: [0.55849416] [0.86250683]\n",
            "\u001b[1mIteration\u001b[0m 320\n",
            "k0 and k1: [0.55764416] [0.86376422]\n",
            "\u001b[1mIteration\u001b[0m 330\n",
            "k0 and k1: [0.55683543] [0.86488156]\n",
            "\u001b[1mIteration\u001b[0m 340\n",
            "k0 and k1: [0.55606537] [0.86588011]\n",
            "\u001b[1mIteration\u001b[0m 350\n",
            "k0 and k1: [0.55533153] [0.86677773]\n",
            "\u001b[1mIteration\u001b[0m 360\n",
            "k0 and k1: [0.55463161] [0.8675894]\n",
            "\u001b[1mIteration\u001b[0m 370\n",
            "k0 and k1: [0.55396347] [0.86832772]\n",
            "\u001b[1mIteration\u001b[0m 380\n",
            "k0 and k1: [0.55332514] [0.86900324]\n",
            "\u001b[1mIteration\u001b[0m 390\n",
            "k0 and k1: [0.55271475] [0.86962484]\n",
            "\u001b[1mIteration\u001b[0m 400\n",
            "k0 and k1: [0.5521306] [0.87019998]\n",
            "\u001b[1mIteration\u001b[0m 410\n",
            "k0 and k1: [0.55157108] [0.87073491]\n",
            "\u001b[1mIteration\u001b[0m 420\n",
            "k0 and k1: [0.55103471] [0.87123492]\n",
            "\u001b[1mIteration\u001b[0m 430\n",
            "k0 and k1: [0.55052012] [0.87170442]\n",
            "\u001b[1mIteration\u001b[0m 440\n",
            "k0 and k1: [0.55002601] [0.87214717]\n",
            "\u001b[1mIteration\u001b[0m 450\n",
            "k0 and k1: [0.54955119] [0.87256631]\n",
            "\u001b[1mIteration\u001b[0m 460\n",
            "k0 and k1: [0.54909456] [0.87296451]\n",
            "\u001b[1mIteration\u001b[0m 470\n",
            "k0 and k1: [0.54865509] [0.87334401]\n",
            "\u001b[1mIteration\u001b[0m 480\n",
            "k0 and k1: [0.5482318] [0.87370672]\n",
            "\u001b[1mIteration\u001b[0m 490\n",
            "k0 and k1: [0.5478238] [0.87405424]\n"
          ],
          "name": "stdout"
        }
      ]
    },
    {
      "cell_type": "markdown",
      "metadata": {
        "id": "mv1jx9i1ATX5"
      },
      "source": [
        "#### **Train_vs_Test Loss and Train_vs_Test Accuracy.**"
      ]
    },
    {
      "cell_type": "code",
      "metadata": {
        "colab": {
          "base_uri": "https://localhost:8080/",
          "height": 295
        },
        "id": "ft5hVUa7NwhK",
        "outputId": "226e890f-d959-4578-a17d-ff17df7f90ba"
      },
      "source": [
        "fig, (ax1, ax2) = plt.subplots(1,2, figsize=(10,4))\n",
        "epochs = list(range(0,500, 10))\n",
        "sns.lineplot(epochs,Train_loss_lst,label='train_loss', ax=ax1)\n",
        "sns.lineplot(epochs,Test_loss_lst,label='test_loss', ax=ax1)\n",
        "sns.lineplot(epochs,Train_accuracy_lst,label='train_accuracy', ax=ax2)\n",
        "sns.lineplot(epochs,Test_accuracy_lst,label='test_accuracy', ax=ax2)\n",
        "ax1.set(xlabel=\"epochs\", ylabel=\"loss\")\n",
        "ax2.set(xlabel=\"epochs\", ylabel=\"accuracy\")\n",
        "ax1.title.set_text(\"Train vs Test loss\")\n",
        "ax2.title.set_text(\"Train vs Test Accuracy\")\n",
        "plt.show()"
      ],
      "execution_count": 30,
      "outputs": [
        {
          "output_type": "display_data",
          "data": {
            "image/png": "[encoded data removed]",
            "text/plain": [
              "<Figure size 720x288 with 2 Axes>"
            ]
          },
          "metadata": {
            "tags": [],
            "needs_background": "light"
          }
        }
      ]
    },
    {
      "cell_type": "code",
      "metadata": {
        "colab": {
          "base_uri": "https://localhost:8080/"
        },
        "id": "eZSHCKbkNhdY",
        "outputId": "69cdbba1-95a6-47f1-a8f4-18182fa556b5"
      },
      "source": [
        "print(k0_lst)"
      ],
      "execution_count": 31,
      "outputs": [
        {
          "output_type": "stream",
          "text": [
            "[array([0.59968832]), array([0.59685523]), array([0.59680286]), array([0.59652712]), array([0.59587556]), array([0.59497202]), array([0.59397535]), array([0.59298918]), array([0.59196938]), array([0.59076568]), array([0.58931194]), array([0.58764096]), array([0.58581511]), array([0.58389858]), array([0.58195192]), array([0.58002707]), array([0.57815746]), array([0.57635891]), array([0.57463633]), array([0.57298981]), array([0.57141808]), array([0.56991966]), array([0.56849309]), array([0.56713665]), array([0.56584825]), array([0.56462537]), array([0.56346515]), array([0.56236452]), array([0.56132028]), array([0.56032923]), array([0.55938821]), array([0.55849416]), array([0.55764416]), array([0.55683543]), array([0.55606537]), array([0.55533153]), array([0.55463161]), array([0.55396347]), array([0.55332514]), array([0.55271475]), array([0.5521306]), array([0.55157108]), array([0.55103471]), array([0.55052012]), array([0.55002601]), array([0.54955119]), array([0.54909456]), array([0.54865509]), array([0.5482318]), array([0.5478238])]\n"
          ],
          "name": "stdout"
        }
      ]
    },
    {
      "cell_type": "code",
      "metadata": {
        "colab": {
          "base_uri": "https://localhost:8080/"
        },
        "id": "-6lznA93OZCW",
        "outputId": "1699dda7-3ab5-4f66-fca5-c76eb935a151"
      },
      "source": [
        "print(k1_lst)"
      ],
      "execution_count": 32,
      "outputs": [
        {
          "output_type": "stream",
          "text": [
            "[array([0.42470673]), array([0.40962832]), array([0.41193934]), array([0.42406001]), array([0.44519756]), array([0.47558141]), array([0.51424065]), array([0.55713446]), array([0.59852342]), array([0.63536302]), array([0.66769032]), array([0.69605339]), array([0.72069936]), array([0.74200866]), array([0.76043242]), array([0.77634257]), array([0.79002725]), array([0.80173189]), array([0.81169474]), array([0.82015471]), array([0.82733921]), array([0.83345089]), array([0.83866245]), array([0.84311794]), array([0.84693695]), array([0.85021918]), array([0.85304817]), array([0.85549426]), array([0.85761682]), array([0.859466]), array([0.86108411]), array([0.86250683]), array([0.86376422]), array([0.86488156]), array([0.86588011]), array([0.86677773]), array([0.8675894]), array([0.86832772]), array([0.86900324]), array([0.86962484]), array([0.87019998]), array([0.87073491]), array([0.87123492]), array([0.87170442]), array([0.87214717]), array([0.87256631]), array([0.87296451]), array([0.87334401]), array([0.87370672]), array([0.87405424])]\n"
          ],
          "name": "stdout"
        }
      ]
    },
    {
      "cell_type": "code",
      "metadata": {
        "colab": {
          "base_uri": "https://localhost:8080/"
        },
        "id": "pF09sFOUDuzM",
        "outputId": "2ba21812-1abe-4354-e2e2-92c8f8571ca3"
      },
      "source": [
        "print(Train_loss_lst)"
      ],
      "execution_count": 35,
      "outputs": [
        {
          "output_type": "stream",
          "text": [
            "[0.27119477222884175, 0.2381484405911428, 0.2293215254233494, 0.22271868277448176, 0.21554016176968324, 0.2063053285374926, 0.1942517157688837, 0.18012560403061362, 0.16587255340159784, 0.15266404110495574, 0.14073489056600422, 0.1301274938645971, 0.12075571488714085, 0.11247838597372212, 0.10517967142420095, 0.09876731247239368, 0.0931654246102574, 0.08830118923596394, 0.08409437242043576, 0.08045871035032799, 0.07730966972675879, 0.07457059611230235, 0.07217514105776492, 0.07006728935394703, 0.06820038740971585, 0.06653588406463286, 0.06504206856028485, 0.06369291250045611, 0.06246705422844829, 0.06134693462448719, 0.06031807793197203, 0.05936850285622869, 0.058488245626097425, 0.05766897639866096, 0.056903691914668056, 0.05618646962861398, 0.055512271000022914, 0.05487678391348376, 0.05427629616543167, 0.05370759359334891, 0.05316787775433339, 0.052654699128092064, 0.052165902669502294, 0.051699583208922754, 0.05125404872935466, 0.05082778996723585, 0.05041945511156449, 0.050027828633086566, 0.04965181347655021, 0.049290416006553754]\n"
          ],
          "name": "stdout"
        }
      ]
    },
    {
      "cell_type": "code",
      "metadata": {
        "colab": {
          "base_uri": "https://localhost:8080/"
        },
        "id": "CiJ0LVBRD_B-",
        "outputId": "420bf568-64e2-4758-bb7e-30d75bccec48"
      },
      "source": [
        "print(Test_loss_lst)"
      ],
      "execution_count": 36,
      "outputs": [
        {
          "output_type": "stream",
          "text": [
            "[0.2620192568924626, 0.23737676954524944, 0.22894206886747082, 0.2223366186214894, 0.21499969688387713, 0.20550046538063, 0.1931655334641082, 0.17888571906055242, 0.1645974796156296, 0.15137111634843903, 0.13941913968352312, 0.12877421453977417, 0.11933952180236812, 0.11098181113903002, 0.10359827009498378, 0.09710979645652168, 0.09144975827534689, 0.08654844722148018, 0.0823237164066027, 0.07868481018835843, 0.07554225965861362, 0.07281540497387178, 0.07043532831080909, 0.06834468867056401, 0.06649628555547064, 0.06485138819355526, 0.06337821799334831, 0.06205066991370042, 0.06084725999498968, 0.05975026540856414, 0.058745024051756564, 0.057819365338681296, 0.05696314839123957, 0.05616788780738225, 0.055426450626355754, 0.054732811058963216, 0.05408185201938999, 0.05346920452376827, 0.05289111767579437, 0.052344353313024186, 0.0518261004997713, 0.05133390596956072, 0.0508656173754089, 0.05041933682553803, 0.049993382686661154, 0.04958625804501373, 0.049196624543036076, 0.04882328057124605, 0.04846514300269745, 0.04812123182195407]\n"
          ],
          "name": "stdout"
        }
      ]
    },
    {
      "cell_type": "code",
      "metadata": {
        "colab": {
          "base_uri": "https://localhost:8080/"
        },
        "id": "nQtVdaMwEHwF",
        "outputId": "0cd1cab2-baae-41fe-bba1-bf6b453918ab"
      },
      "source": [
        "print(Train_accuracy_lst)"
      ],
      "execution_count": 37,
      "outputs": [
        {
          "output_type": "stream",
          "text": [
            "[0.10039583333333334, 0.1041875, 0.12458333333333334, 0.17679166666666668, 0.25245833333333334, 0.32408333333333333, 0.3738958333333333, 0.41602083333333334, 0.4515, 0.4863125, 0.5230208333333334, 0.5587708333333333, 0.5930208333333333, 0.6255833333333334, 0.6561875, 0.6804375, 0.7010833333333333, 0.7187083333333333, 0.7335208333333333, 0.7461041666666667, 0.7566458333333334, 0.7658125, 0.7734583333333334, 0.7812916666666667, 0.7881666666666667, 0.7938541666666666, 0.7995208333333333, 0.804125, 0.8084791666666666, 0.8125625, 0.816125, 0.8195, 0.8225833333333333, 0.82575, 0.8285208333333334, 0.8308541666666667, 0.8329791666666667, 0.835, 0.8363125, 0.8378958333333333, 0.839625, 0.8414166666666667, 0.8429791666666666, 0.844625, 0.846375, 0.8478958333333333, 0.8491875, 0.8504375, 0.8516041666666667, 0.8530625]\n"
          ],
          "name": "stdout"
        }
      ]
    },
    {
      "cell_type": "code",
      "metadata": {
        "colab": {
          "base_uri": "https://localhost:8080/"
        },
        "id": "a2rrRsmOEQaU",
        "outputId": "ac8cd7ec-54e1-45d5-b7ef-e6ae4c12ca7e"
      },
      "source": [
        "print(Test_accuracy_lst)"
      ],
      "execution_count": 38,
      "outputs": [
        {
          "output_type": "stream",
          "text": [
            "[0.09941666666666667, 0.10408333333333333, 0.12891666666666668, 0.18658333333333332, 0.2619166666666667, 0.3285, 0.37825, 0.4205833333333333, 0.4573333333333333, 0.49191666666666667, 0.52775, 0.5620833333333334, 0.5964166666666667, 0.6296666666666667, 0.658, 0.68275, 0.7026666666666667, 0.7204166666666667, 0.7336666666666667, 0.7474166666666666, 0.75925, 0.7690833333333333, 0.77775, 0.78425, 0.7900833333333334, 0.79625, 0.79975, 0.8039166666666666, 0.8088333333333333, 0.81275, 0.8175, 0.8206666666666667, 0.824, 0.8269166666666666, 0.83025, 0.833, 0.8350833333333333, 0.83725, 0.8395, 0.84175, 0.84325, 0.8453333333333334, 0.8475833333333334, 0.8489166666666667, 0.8505833333333334, 0.852, 0.85275, 0.8530833333333333, 0.85375, 0.8548333333333333]\n"
          ],
          "name": "stdout"
        }
      ]
    },
    {
      "cell_type": "markdown",
      "metadata": {
        "id": "L9eehiqWOpn5"
      },
      "source": [
        "**Learnable parameters k0 and k1 vs epochs.**"
      ]
    },
    {
      "cell_type": "code",
      "metadata": {
        "colab": {
          "base_uri": "https://localhost:8080/",
          "height": 312
        },
        "id": "s2d3t5BPL8cr",
        "outputId": "713040b2-c806-4b80-d93b-199574d8f003"
      },
      "source": [
        "fig = plt.figure(figsize=(10,4))\n",
        "epochs = list(range(0,500, 10))\n",
        "plt.plot(epochs,k0_lst,label='k0')\n",
        "plt.plot(epochs,k1_lst,label='k1')\n",
        "plt.xlabel('epochs')\n",
        "plt.ylabel('k0 and k1')\n",
        "plt.title(\"k0_and_k1 vs epoch\")\n",
        "plt.legend()"
      ],
      "execution_count": 44,
      "outputs": [
        {
          "output_type": "execute_result",
          "data": {
            "text/plain": [
              "<matplotlib.legend.Legend at 0x7f1ee2bd5d90>"
            ]
          },
          "metadata": {
            "tags": []
          },
          "execution_count": 44
        },
        {
          "output_type": "display_data",
          "data": {
            "image/png": "[encoded data removed]",
            "text/plain": [
              "<Figure size 720x288 with 1 Axes>"
            ]
          },
          "metadata": {
            "tags": [],
            "needs_background": "light"
          }
        }
      ]
    },
    {
      "cell_type": "markdown",
      "metadata": {
        "id": "V6AcTbRoAhvx"
      },
      "source": [
        "#### **Final values for parameters k0 and k1.**"
      ]
    },
    {
      "cell_type": "code",
      "metadata": {
        "colab": {
          "base_uri": "https://localhost:8080/"
        },
        "id": "DGlGhd5d4dOB",
        "outputId": "e485616d-f9b3-4046-ff3e-f307669d10d9"
      },
      "source": [
        "print(\"k0:\", k0)\n",
        "print(\"k1:\", k1)"
      ],
      "execution_count": 40,
      "outputs": [
        {
          "output_type": "stream",
          "text": [
            "k0: [0.54746898]\n",
            "k1: [0.87435517]\n"
          ],
          "name": "stdout"
        }
      ]
    },
    {
      "cell_type": "code",
      "metadata": {
        "id": "udFhNE3E1DOj"
      },
      "source": [
        "def make_predictions(X, W1, b1, W2, b2, W3, b3, k0, k1):\n",
        "  Z1, A1, Z2, A2, Z3, A3 = forward_prop(W1, b1, W2, b2, W3, b3, k0, k1, X)\n",
        "  predict_labels = get_predictions(A3)\n",
        "  return predict_labels"
      ],
      "execution_count": 42,
      "outputs": []
    },
    {
      "cell_type": "markdown",
      "metadata": {
        "id": "U4wGl3vYIsu-"
      },
      "source": [
        "**F1-Score.**"
      ]
    },
    {
      "cell_type": "code",
      "metadata": {
        "id": "ehqp08En2HCA",
        "colab": {
          "base_uri": "https://localhost:8080/"
        },
        "outputId": "9461d27d-14b7-45bd-9c19-98a08b26263b"
      },
      "source": [
        "prdicted_labels = make_predictions(test_data, W1, b1, W2, b2, W3, b3, k0, k1)\n",
        "ture_labels = test_labels\n",
        "print(f1_score(ture_labels, prdicted_labels, average='weighted'))"
      ],
      "execution_count": 43,
      "outputs": [
        {
          "output_type": "stream",
          "text": [
            "0.8549642703576936\n"
          ],
          "name": "stdout"
        }
      ]
    }
  ]
}