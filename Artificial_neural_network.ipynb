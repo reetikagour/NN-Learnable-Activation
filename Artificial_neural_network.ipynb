{
  "nbformat": 4,
  "nbformat_minor": 0,
  "metadata": {
    "colab": {
      "name": "Artificial_neural_network.ipynb",
      "provenance": [],
      "collapsed_sections": []
    },
    "kernelspec": {
      "name": "python3",
      "display_name": "Python 3"
    },
    "language_info": {
      "name": "python"
    }
  },
  "cells": [
    {
      "cell_type": "code",
      "metadata": {
        "id": "kgRWiz8lnIE2"
      },
      "source": [
        "import numpy as np\n",
        "import pandas as pd\n",
        "import matplotlib.pyplot as plt\n",
        "from sklearn.model_selection import train_test_split\n",
        "from sklearn.metrics import f1_score\n",
        "import seaborn as sns\n",
        "import warnings\n",
        "warnings.simplefilter(action='ignore', category=FutureWarning) "
      ],
      "execution_count": 26,
      "outputs": []
    },
    {
      "cell_type": "code",
      "metadata": {
        "colab": {
          "base_uri": "https://localhost:8080/"
        },
        "id": "z3rrRxyEK5Il",
        "outputId": "b48db1f7-6e1b-44a7-da5b-5fae654db0df"
      },
      "source": [
        "from google.colab import drive\n",
        "\n",
        "drive.mount('/content/drive')"
      ],
      "execution_count": 3,
      "outputs": [
        {
          "output_type": "stream",
          "text": [
            "Mounted at /content/drive\n"
          ],
          "name": "stdout"
        }
      ]
    },
    {
      "cell_type": "code",
      "metadata": {
        "id": "iOiu-8Vd4D8T"
      },
      "source": [
        "data = pd.read_csv(\"/content/drive/MyDrive/mnist_train_unzipped/mnist_train.csv\")"
      ],
      "execution_count": 29,
      "outputs": []
    },
    {
      "cell_type": "code",
      "metadata": {
        "colab": {
          "base_uri": "https://localhost:8080/",
          "height": 176
        },
        "id": "GDewTfMuKluw",
        "outputId": "49d533f8-ff10-4d9c-dfc3-861e3a403f5a"
      },
      "source": [
        "# Display or plot an image\n",
        "def display_image(idx):\n",
        "  plt.figure(figsize=(2,2))\n",
        "  labels = data[\"label\"]\n",
        "  data_drop_label = data.drop([\"label\"], axis=1)\n",
        "  grid_data = data_drop_label.iloc[idx].to_numpy().reshape(28,28)  # reshape from 1d to 2d pixel array\n",
        "  plt.imshow(grid_data, interpolation = \"none\", cmap = \"gray\")\n",
        "  plt.show()\n",
        "\n",
        "  print(\"Lable:\", labels[idx])\n",
        "\n",
        "display_image(0)"
      ],
      "execution_count": 28,
      "outputs": [
        {
          "output_type": "display_data",
          "data": {
            "image/png": "[encoded data removed]",
            "text/plain": [
              "<Figure size 144x144 with 1 Axes>"
            ]
          },
          "metadata": {
            "tags": [],
            "needs_background": "light"
          }
        },
        {
          "output_type": "stream",
          "text": [
            "Lable: 5\n"
          ],
          "name": "stdout"
        }
      ]
    },
    {
      "cell_type": "code",
      "metadata": {
        "id": "3ipPNRSHIeyT"
      },
      "source": [
        "train_df, test_df = train_test_split(data, test_size=0.2)  #Split data into train and test.\n",
        "train_labels = train_df[\"label\"]\n",
        "test_labels =test_df[\"label\"]\n",
        "train_data = train_df.drop(\"label\",axis=1)\n",
        "test_data = test_df.drop(\"label\", axis=1)\n",
        "train_data = np.array(train_data.T)/255.\n",
        "test_data = np.array(test_data.T)/255.      #Normalize the data.\n",
        "n, m = train_data.shape"
      ],
      "execution_count": 30,
      "outputs": []
    },
    {
      "cell_type": "code",
      "metadata": {
        "id": "4_eg2KHqicB_"
      },
      "source": [
        "def init_params(): #Initialize Parameters.\n",
        "    W1 = np.random.rand(10, 784) - 0.5\n",
        "    b1 = np.random.rand(10, 1) - 0.5\n",
        "    W2 = np.random.rand(10, 10) - 0.5 \n",
        "    b2 = np.random.rand(10, 1) - 0.5\n",
        "    W3 = np.random.rand(10, 10) - 0.5\n",
        "    b3 = np.random.rand(10, 1) - 0.5\n",
        "    k0 = np.random.rand(1)\n",
        "    k1 = np.random.rand(1)\n",
        "    return W1, b1, W2, b2, W3, b3, k0, k1 \n",
        "\n",
        "def activaton(Z, k0, k1):  #Define activation function.\n",
        "    return k0 +(k1*Z)\n",
        "\n",
        "def softmax(Z):            #Define softmax function\n",
        "    A = np.exp(Z) / sum(np.exp(Z))\n",
        "    return A\n",
        "    \n",
        "def forward_prop(W1, b1, W2, b2, W3, b3, k0, k1, X):   #Define forward propagation.\n",
        "    Z1 = W1.dot(X) + b1\n",
        "    A1 = activaton(Z1, k0, k1)\n",
        "    Z2 = W2.dot(A1) + b2\n",
        "    A2 = activaton(Z2, k0, k1)\n",
        "    Z3 = W3.dot(A2) + b3\n",
        "    A3 = softmax(Z3)\n",
        "    return Z1, A1, Z2, A2, Z3, A3\n",
        "\n",
        "def actva_deri(Z, k0, k1):     #Derivative of activation function.\n",
        "    return k1\n",
        "\n",
        "def one_hot(Y):                #One hot encoding for labels.\n",
        "    one_hot_Y = np.zeros((Y.size, Y.max() + 1))\n",
        "    one_hot_Y[np.arange(Y.size), Y] = 1\n",
        "    one_hot_Y = one_hot_Y.T\n",
        "    return one_hot_Y\n",
        "\n",
        "def backward_prop(Z1, A1, Z2, A2, Z3, A3, W1, W2, W3, k0, k1, X, Y):    #define backward propagation.\n",
        "    one_hot_Y = one_hot(Y)\n",
        "    dZ3 = A3 - one_hot_Y\n",
        "    dW3 = 1 / m * dZ3.dot(A2.T)\n",
        "    db3 = 1 / m * np.sum(dZ3)\n",
        "    dA2 = W3.T.dot(dZ3)\n",
        "    dZ2 = W3.T.dot(dZ3) * actva_deri(Z2, k0, k1)\n",
        "    dW2 = 1 / m * dZ2.dot(A1.T)\n",
        "    db2 = 1 / m * np.sum(dZ2)\n",
        "    dA1 = W2.T.dot(dZ2)\n",
        "    dZ1 = W2.T.dot(dZ2) * actva_deri(Z1, k0, k1)\n",
        "    dW1 = 1 / m * dZ1.dot(X.T)\n",
        "    db1 = 1 / m * np.sum(dZ1)\n",
        "    dk0 = np.average(dA1)\n",
        "    dk1 = np.average(dA1*Z1)\n",
        "    return dW1, db1, dW2, db2, dW3, db3, dk0, dk1\n",
        "\n",
        "def update_params(W1, b1, W2, b2, W3, b3, k0, k1, dW1, db1, dW2, db2, dW3, db3, dk0, dk1, alpha):    #Update parameters.\n",
        "    W1 = W1 - alpha * dW1\n",
        "    b1 = b1 - alpha * db1    \n",
        "    W2 = W2 - alpha * dW2  \n",
        "    b2 = b2 - alpha * db2\n",
        "    W3 = W3 - alpha * dW3  \n",
        "    b3 = b3 - alpha * db3\n",
        "    k0 = k0 - alpha * dk0\n",
        "    k1 = k1 - alpha * dk1    \n",
        "    return W1, b1, W2, b2, W3, b3, k0, k1"
      ],
      "execution_count": 31,
      "outputs": []
    },
    {
      "cell_type": "code",
      "metadata": {
        "id": "AokygQYlrmqI"
      },
      "source": [
        "def loss_crossentropy(probas, y):          #Categorical cross entopy loss function.\n",
        "  tanspose_probas = probas.T\n",
        "  transpose_y = y.T\n",
        "  training_point_loss = []\n",
        "  for list_1, list_2 in zip(tanspose_probas, transpose_y):\n",
        "    for i, j in zip(list_1, list_2):\n",
        "      training_point_loss.append(np.sum(np.log(i)*(-j)))\n",
        "  total_loss = np.mean(training_point_loss)\n",
        "  return total_loss\n",
        "\n",
        "def get_predictions(A3):                   #make Predictions\n",
        "    return np.argmax(A3, 0)\n",
        "\n",
        "def get_accuracy(predictions, Y):          #Define accuracy\n",
        "    return np.sum(predictions == Y) / Y.size\n",
        "\n",
        "def Test_loss_accuracy(X, W1, b1, W2, b2, W3, b3, k0, k1):     #loss-accuracy calculation for test data.\n",
        "    Z1, A1, Z2, A2, Z3, A3 = forward_prop(W1, b1, W2, b2, W3, b3, k0, k1, X)\n",
        "    Test_loss = loss_crossentropy(A3, one_hot(test_labels))\n",
        "    Test_accuracy = get_accuracy(get_predictions(A3), test_labels)\n",
        "    return Test_loss, Test_accuracy    "
      ],
      "execution_count": 32,
      "outputs": []
    },
    {
      "cell_type": "code",
      "metadata": {
        "id": "VtgLd9tRsiBt"
      },
      "source": [
        "def gradient_descent(X, Y, alpha, iterations):\n",
        "    W1, b1, W2, b2, W3, b3, k0, k1 = init_params()\n",
        "    Train_loss_lst, Train_accuracy_lst, Test_loss_lst, Test_accuracy_lst, k0_lst, k1_lst = [], [], [], [], [], []\n",
        "    for i in range(iterations):\n",
        "        Z1, A1, Z2, A2, Z3, A3 = forward_prop(W1, b1, W2, b2, W3, b3, k0, k1, X)\n",
        "        dW1, db1, dW2, db2, dW3, db3, dk0, dk1 = backward_prop(Z1, A1, Z2, A2, Z3, A3, W1, W2, W3, k0, k1, X, Y)\n",
        "        W1, b1, W2, b2, W3, b3, k0, k1 = update_params(W1, b1, W2, b2, W3, b3, k0, k1, dW1, db1, dW2, db2, dW3, db3, dk0, dk1,alpha)\n",
        "        if i % 10 == 0:\n",
        "          print(\"\\033[1m\" + \"Iteration\" + \"\\033[0m\", i)\n",
        "          total_loss = loss_crossentropy(A3, one_hot(Y))\n",
        "          Train_accuracy = get_accuracy(get_predictions(A3), Y)\n",
        "          Test_loss, Test_accuracy = Test_loss_accuracy(test_data, W1, b1, W2, b2, W3, b3, k0, k1)\n",
        "          Train_loss_lst.append(total_loss), Train_accuracy_lst.append(Train_accuracy), Test_loss_lst.append(Test_loss), Test_accuracy_lst.append(Test_accuracy)\n",
        "          k0_lst.append(k0)\n",
        "          k1_lst.append(k1)\n",
        "          print(\"k0 and k1:\", k0, k1)\n",
        "    return W1, b1, W2, b2, W3, b3, k0, k1, Train_loss_lst, Train_accuracy_lst, Test_loss_lst, Test_accuracy_lst, k0_lst, k1_lst "
      ],
      "execution_count": 33,
      "outputs": []
    },
    {
      "cell_type": "markdown",
      "metadata": {
        "id": "dhvRThJeAIt1"
      },
      "source": [
        "#### **Model training.**"
      ]
    },
    {
      "cell_type": "code",
      "metadata": {
        "colab": {
          "base_uri": "https://localhost:8080/"
        },
        "id": "0zb1Y24psmrf",
        "outputId": "11bd4880-49ca-4fd0-c7e6-12f1f06bdd34"
      },
      "source": [
        "W1, b1, W2, b2, W3, b3, k0, k1, Train_loss_lst, Train_accuracy_lst, Test_loss_lst, Test_accuracy_lst, k0_lst, k1_lst = gradient_descent(train_data, train_labels, 0.10, 500)"
      ],
      "execution_count": 34,
      "outputs": [
        {
          "output_type": "stream",
          "text": [
            "\u001b[1mIteration\u001b[0m 0\n",
            "k0 and k1: [0.39164288] [0.23408116]\n",
            "\u001b[1mIteration\u001b[0m 10\n",
            "k0 and k1: [0.38721934] [0.23180426]\n",
            "\u001b[1mIteration\u001b[0m 20\n",
            "k0 and k1: [0.38409459] [0.23161396]\n",
            "\u001b[1mIteration\u001b[0m 30\n",
            "k0 and k1: [0.38179041] [0.23314798]\n",
            "\u001b[1mIteration\u001b[0m 40\n",
            "k0 and k1: [0.38003509] [0.23629931]\n",
            "\u001b[1mIteration\u001b[0m 50\n",
            "k0 and k1: [0.3786555] [0.24109778]\n",
            "\u001b[1mIteration\u001b[0m 60\n",
            "k0 and k1: [0.37753199] [0.24767541]\n",
            "\u001b[1mIteration\u001b[0m 70\n",
            "k0 and k1: [0.3765768] [0.25626442]\n",
            "\u001b[1mIteration\u001b[0m 80\n",
            "k0 and k1: [0.37572243] [0.26721361]\n",
            "\u001b[1mIteration\u001b[0m 90\n",
            "k0 and k1: [0.37491489] [0.28102018]\n",
            "\u001b[1mIteration\u001b[0m 100\n",
            "k0 and k1: [0.37410967] [0.29837795]\n",
            "\u001b[1mIteration\u001b[0m 110\n",
            "k0 and k1: [0.37326997] [0.3202409]\n",
            "\u001b[1mIteration\u001b[0m 120\n",
            "k0 and k1: [0.37236785] [0.34788448]\n",
            "\u001b[1mIteration\u001b[0m 130\n",
            "k0 and k1: [0.37138947] [0.38287981]\n",
            "\u001b[1mIteration\u001b[0m 140\n",
            "k0 and k1: [0.37034327] [0.42668277]\n",
            "\u001b[1mIteration\u001b[0m 150\n",
            "k0 and k1: [0.36925816] [0.47911972]\n",
            "\u001b[1mIteration\u001b[0m 160\n",
            "k0 and k1: [0.36817559] [0.5356726]\n",
            "\u001b[1mIteration\u001b[0m 170\n",
            "k0 and k1: [0.36730295] [0.58857256]\n",
            "\u001b[1mIteration\u001b[0m 180\n",
            "k0 and k1: [0.36694878] [0.63366597]\n",
            "\u001b[1mIteration\u001b[0m 190\n",
            "k0 and k1: [0.36699522] [0.67016414]\n",
            "\u001b[1mIteration\u001b[0m 200\n",
            "k0 and k1: [0.36705568] [0.69841218]\n",
            "\u001b[1mIteration\u001b[0m 210\n",
            "k0 and k1: [0.36695185] [0.71980194]\n",
            "\u001b[1mIteration\u001b[0m 220\n",
            "k0 and k1: [0.36671861] [0.73602477]\n",
            "\u001b[1mIteration\u001b[0m 230\n",
            "k0 and k1: [0.36641766] [0.74852282]\n",
            "\u001b[1mIteration\u001b[0m 240\n",
            "k0 and k1: [0.366088] [0.75837119]\n",
            "\u001b[1mIteration\u001b[0m 250\n",
            "k0 and k1: [0.3657503] [0.76633125]\n",
            "\u001b[1mIteration\u001b[0m 260\n",
            "k0 and k1: [0.3654148] [0.77293274]\n",
            "\u001b[1mIteration\u001b[0m 270\n",
            "k0 and k1: [0.36508644] [0.77854237]\n",
            "\u001b[1mIteration\u001b[0m 280\n",
            "k0 and k1: [0.3647676] [0.78341388]\n",
            "\u001b[1mIteration\u001b[0m 290\n",
            "k0 and k1: [0.36445954] [0.7877233]\n",
            "\u001b[1mIteration\u001b[0m 300\n",
            "k0 and k1: [0.3641631] [0.79159314]\n",
            "\u001b[1mIteration\u001b[0m 310\n",
            "k0 and k1: [0.36387892] [0.79510905]\n",
            "\u001b[1mIteration\u001b[0m 320\n",
            "k0 and k1: [0.36360754] [0.7983312]\n",
            "\u001b[1mIteration\u001b[0m 330\n",
            "k0 and k1: [0.36334939] [0.80130208]\n",
            "\u001b[1mIteration\u001b[0m 340\n",
            "k0 and k1: [0.36310478] [0.80405194]\n",
            "\u001b[1mIteration\u001b[0m 350\n",
            "k0 and k1: [0.36287384] [0.80660263]\n",
            "\u001b[1mIteration\u001b[0m 360\n",
            "k0 and k1: [0.36265658] [0.80897029]\n",
            "\u001b[1mIteration\u001b[0m 370\n",
            "k0 and k1: [0.36245279] [0.8111673]\n",
            "\u001b[1mIteration\u001b[0m 380\n",
            "k0 and k1: [0.36226215] [0.81320362]\n",
            "\u001b[1mIteration\u001b[0m 390\n",
            "k0 and k1: [0.36208418] [0.81508782]\n",
            "\u001b[1mIteration\u001b[0m 400\n",
            "k0 and k1: [0.3619183] [0.81682766]\n",
            "\u001b[1mIteration\u001b[0m 410\n",
            "k0 and k1: [0.36176386] [0.81843056]\n",
            "\u001b[1mIteration\u001b[0m 420\n",
            "k0 and k1: [0.36162014] [0.81990389]\n",
            "\u001b[1mIteration\u001b[0m 430\n",
            "k0 and k1: [0.36148641] [0.82125501]\n",
            "\u001b[1mIteration\u001b[0m 440\n",
            "k0 and k1: [0.36136191] [0.82249142]\n",
            "\u001b[1mIteration\u001b[0m 450\n",
            "k0 and k1: [0.3612459] [0.82362066]\n",
            "\u001b[1mIteration\u001b[0m 460\n",
            "k0 and k1: [0.36113766] [0.82465029]\n",
            "\u001b[1mIteration\u001b[0m 470\n",
            "k0 and k1: [0.3610365] [0.82558781]\n",
            "\u001b[1mIteration\u001b[0m 480\n",
            "k0 and k1: [0.36094179] [0.82644057]\n",
            "\u001b[1mIteration\u001b[0m 490\n",
            "k0 and k1: [0.3608529] [0.8272157]\n"
          ],
          "name": "stdout"
        }
      ]
    },
    {
      "cell_type": "markdown",
      "metadata": {
        "id": "mv1jx9i1ATX5"
      },
      "source": [
        "#### **Train_vs_Test Loss and Train_vs_Test Accuracy.**"
      ]
    },
    {
      "cell_type": "code",
      "metadata": {
        "colab": {
          "base_uri": "https://localhost:8080/",
          "height": 295
        },
        "id": "ft5hVUa7NwhK",
        "outputId": "bb16a43f-d6be-43ef-88fc-b08a8e363a51"
      },
      "source": [
        "fig, (ax1, ax2) = plt.subplots(1,2, figsize=(10,4))\n",
        "epochs = list(range(0,500, 10))\n",
        "sns.lineplot(epochs,Train_loss_lst,label='train_loss', ax=ax1)\n",
        "sns.lineplot(epochs,Test_loss_lst,label='test_loss', ax=ax1)\n",
        "sns.lineplot(epochs,Train_accuracy_lst,label='train_accuracy', ax=ax2)\n",
        "sns.lineplot(epochs,Test_accuracy_lst,label='test_accuracy', ax=ax2)\n",
        "ax1.set(xlabel=\"epochs\", ylabel=\"loss\")\n",
        "ax2.set(xlabel=\"epochs\", ylabel=\"accuracy\")\n",
        "ax1.title.set_text(\"Train vs Test loss\")\n",
        "ax2.title.set_text(\"Train vs Test Accuracy\")\n",
        "plt.show()"
      ],
      "execution_count": 35,
      "outputs": [
        {
          "output_type": "display_data",
          "data": {
            "image/png": "[encoded data removed]",
            "text/plain": [
              "<Figure size 720x288 with 2 Axes>"
            ]
          },
          "metadata": {
            "tags": [],
            "needs_background": "light"
          }
        }
      ]
    },
    {
      "cell_type": "code",
      "metadata": {
        "colab": {
          "base_uri": "https://localhost:8080/"
        },
        "id": "eZSHCKbkNhdY",
        "outputId": "691a7ee5-c804-475c-e04f-1f90c872b5af"
      },
      "source": [
        "print(k1_lst)"
      ],
      "execution_count": 36,
      "outputs": [
        {
          "output_type": "stream",
          "text": [
            "[array([0.23408116]), array([0.23180426]), array([0.23161396]), array([0.23314798]), array([0.23629931]), array([0.24109778]), array([0.24767541]), array([0.25626442]), array([0.26721361]), array([0.28102018]), array([0.29837795]), array([0.3202409]), array([0.34788448]), array([0.38287981]), array([0.42668277]), array([0.47911972]), array([0.5356726]), array([0.58857256]), array([0.63366597]), array([0.67016414]), array([0.69841218]), array([0.71980194]), array([0.73602477]), array([0.74852282]), array([0.75837119]), array([0.76633125]), array([0.77293274]), array([0.77854237]), array([0.78341388]), array([0.7877233]), array([0.79159314]), array([0.79510905]), array([0.7983312]), array([0.80130208]), array([0.80405194]), array([0.80660263]), array([0.80897029]), array([0.8111673]), array([0.81320362]), array([0.81508782]), array([0.81682766]), array([0.81843056]), array([0.81990389]), array([0.82125501]), array([0.82249142]), array([0.82362066]), array([0.82465029]), array([0.82558781]), array([0.82644057]), array([0.8272157])]\n"
          ],
          "name": "stdout"
        }
      ]
    },
    {
      "cell_type": "code",
      "metadata": {
        "colab": {
          "base_uri": "https://localhost:8080/"
        },
        "id": "-6lznA93OZCW",
        "outputId": "73a375f3-e45c-42cf-af70-d4e5dc0ebf9b"
      },
      "source": [
        "print(k0_lst)"
      ],
      "execution_count": 37,
      "outputs": [
        {
          "output_type": "stream",
          "text": [
            "[array([0.39164288]), array([0.38721934]), array([0.38409459]), array([0.38179041]), array([0.38003509]), array([0.3786555]), array([0.37753199]), array([0.3765768]), array([0.37572243]), array([0.37491489]), array([0.37410967]), array([0.37326997]), array([0.37236785]), array([0.37138947]), array([0.37034327]), array([0.36925816]), array([0.36817559]), array([0.36730295]), array([0.36694878]), array([0.36699522]), array([0.36705568]), array([0.36695185]), array([0.36671861]), array([0.36641766]), array([0.366088]), array([0.3657503]), array([0.3654148]), array([0.36508644]), array([0.3647676]), array([0.36445954]), array([0.3641631]), array([0.36387892]), array([0.36360754]), array([0.36334939]), array([0.36310478]), array([0.36287384]), array([0.36265658]), array([0.36245279]), array([0.36226215]), array([0.36208418]), array([0.3619183]), array([0.36176386]), array([0.36162014]), array([0.36148641]), array([0.36136191]), array([0.3612459]), array([0.36113766]), array([0.3610365]), array([0.36094179]), array([0.3608529])]\n"
          ],
          "name": "stdout"
        }
      ]
    },
    {
      "cell_type": "code",
      "metadata": {
        "colab": {
          "base_uri": "https://localhost:8080/"
        },
        "id": "pF09sFOUDuzM",
        "outputId": "cb91d5c1-6d60-411e-b66e-e15153b66314"
      },
      "source": [
        "print(Train_loss_lst)"
      ],
      "execution_count": 42,
      "outputs": [
        {
          "output_type": "stream",
          "text": [
            "[0.23861169544077185, 0.23597178648105083, 0.23411670175303106, 0.23268238594048932, 0.23149112746812622, 0.2304332304937785, 0.22942325454722012, 0.22837813407028715, 0.2272006281066012, 0.22575981349322147, 0.22386078049466715, 0.22119214559775577, 0.21723447031779267, 0.21111903086668693, 0.20152281991316032, 0.18712000247632793, 0.16853895176800032, 0.1492027808964925, 0.13181917359998602, 0.11785623712840967, 0.1074426082594218, 0.09969837029509529, 0.09377465612693811, 0.08907778962816826, 0.08522080671546509, 0.08195599178863713, 0.07912363031191948, 0.07661876732543114, 0.07437073794761914, 0.07233069876246265, 0.07046398110412727, 0.06874532392160466, 0.06715583512719804, 0.06568100586997248, 0.06430938095347068, 0.06303165024666459, 0.061840019098316976, 0.060727769547459856, 0.0596889555753159, 0.05871819443399766, 0.05781052757806485, 0.0569613319245465, 0.05616626683708401, 0.05542124546121753, 0.05472242151113459, 0.05406618469867902, 0.053449159847185984, 0.05286820635253516, 0.052320416002172625, 0.05180310821063382]\n"
          ],
          "name": "stdout"
        }
      ]
    },
    {
      "cell_type": "code",
      "metadata": {
        "colab": {
          "base_uri": "https://localhost:8080/"
        },
        "id": "CiJ0LVBRD_B-",
        "outputId": "73ab3a3a-d95c-41f4-fb12-6f838090e0b2"
      },
      "source": [
        "print(Test_loss_lst)"
      ],
      "execution_count": 43,
      "outputs": [
        {
          "output_type": "stream",
          "text": [
            "[0.2386026254457829, 0.236047409801352, 0.23422368384212608, 0.2327975930952384, 0.23160210256969896, 0.2305315762419306, 0.22950163672770052, 0.22842831534596875, 0.2272114581313487, 0.2257143623334485, 0.223731536914348, 0.22093253263357626, 0.21676429600469457, 0.21030444249351177, 0.2001752347431281, 0.1851167161119859, 0.16609456259742278, 0.14665986257113622, 0.12932229320325653, 0.11547073021244811, 0.10515625925152991, 0.09748113971379894, 0.0916055748089787, 0.08694519621703697, 0.08311970349108641, 0.07988524792941337, 0.07708391994763346, 0.07461130137990248, 0.07239661065182172, 0.07039063260754201, 0.0685582904785549, 0.06687397762131976, 0.06531855033416983, 0.06387734074655177, 0.06253881190895157, 0.06129362911093909, 0.06013400990398699, 0.0590532671442673, 0.0580454898377939, 0.05710532452135314, 0.05622783061282339, 0.05540838976058364, 0.05464265357454582, 0.05392651731492385, 0.05325610974601993, 0.05262779169855731, 0.052038157982784626, 0.051484039115521386, 0.0509625008147895, 0.05047084035201245]\n"
          ],
          "name": "stdout"
        }
      ]
    },
    {
      "cell_type": "code",
      "metadata": {
        "colab": {
          "base_uri": "https://localhost:8080/"
        },
        "id": "nQtVdaMwEHwF",
        "outputId": "f98d7b48-7a75-4618-f36d-2f2271b07865"
      },
      "source": [
        "print(Train_accuracy_lst)"
      ],
      "execution_count": 44,
      "outputs": [
        {
          "output_type": "stream",
          "text": [
            "[0.09445833333333334, 0.09447916666666667, 0.0966875, 0.10104166666666667, 0.1065, 0.1169375, 0.1311875, 0.14477083333333332, 0.16358333333333333, 0.18941666666666668, 0.21710416666666665, 0.24204166666666665, 0.2701875, 0.30545833333333333, 0.3514583333333333, 0.40570833333333334, 0.4593333333333333, 0.51625, 0.5709791666666667, 0.6151041666666667, 0.6455833333333333, 0.6699583333333333, 0.6899166666666666, 0.7062916666666667, 0.71925, 0.7298958333333333, 0.7398333333333333, 0.7488958333333333, 0.7581875, 0.7665, 0.7737291666666667, 0.7800416666666666, 0.7863333333333333, 0.7916666666666666, 0.7974583333333334, 0.8020625, 0.8064166666666667, 0.8111666666666667, 0.8151041666666666, 0.8181875, 0.8212708333333333, 0.82475, 0.8277708333333333, 0.8305625, 0.8328125, 0.8353125, 0.8377083333333334, 0.8395833333333333, 0.841625, 0.843625]\n"
          ],
          "name": "stdout"
        }
      ]
    },
    {
      "cell_type": "code",
      "metadata": {
        "colab": {
          "base_uri": "https://localhost:8080/"
        },
        "id": "a2rrRsmOEQaU",
        "outputId": "83597e1e-f35a-480e-a46d-fbac63a93b14"
      },
      "source": [
        "print(Test_accuracy_lst)"
      ],
      "execution_count": 45,
      "outputs": [
        {
          "output_type": "stream",
          "text": [
            "[0.09425, 0.09333333333333334, 0.09575, 0.10025, 0.10775, 0.119, 0.13233333333333333, 0.1475, 0.16633333333333333, 0.19241666666666668, 0.214, 0.23441666666666666, 0.2633333333333333, 0.3010833333333333, 0.34883333333333333, 0.40591666666666665, 0.46266666666666667, 0.5190833333333333, 0.5755833333333333, 0.62075, 0.6525833333333333, 0.6750833333333334, 0.6945, 0.7105, 0.72275, 0.7335833333333334, 0.7425833333333334, 0.7534166666666666, 0.76225, 0.77, 0.778, 0.7830833333333334, 0.7893333333333333, 0.7949166666666667, 0.8000833333333334, 0.8055, 0.8088333333333333, 0.81425, 0.8183333333333334, 0.8219166666666666, 0.8255, 0.828, 0.8304166666666667, 0.8324166666666667, 0.83525, 0.8378333333333333, 0.8394166666666667, 0.8411666666666666, 0.84275, 0.8450833333333333]\n"
          ],
          "name": "stdout"
        }
      ]
    },
    {
      "cell_type": "markdown",
      "metadata": {
        "id": "L9eehiqWOpn5"
      },
      "source": [
        "**Learnable parameters k0 and k1 vs epochs.**"
      ]
    },
    {
      "cell_type": "code",
      "metadata": {
        "colab": {
          "base_uri": "https://localhost:8080/",
          "height": 312
        },
        "id": "s2d3t5BPL8cr",
        "outputId": "b12e5061-1c2e-4e74-a7a1-fe4491f46162"
      },
      "source": [
        "fig = plt.figure(figsize=(10,4))\n",
        "epochs = list(range(0,500, 10))\n",
        "plt.plot(epochs,k0_lst,label='k0')\n",
        "plt.plot(epochs,k1_lst,label='k1')\n",
        "plt.xlabel('epochs')\n",
        "plt.ylabel('k0 and k1')\n",
        "plt.title(\"k0_and_k1 vs epoch\")\n",
        "plt.legend()"
      ],
      "execution_count": 38,
      "outputs": [
        {
          "output_type": "execute_result",
          "data": {
            "text/plain": [
              "<matplotlib.legend.Legend at 0x7f2c9760d3d0>"
            ]
          },
          "metadata": {
            "tags": []
          },
          "execution_count": 38
        },
        {
          "output_type": "display_data",
          "data": {
            "image/png": "[encoded data removed]",
            "text/plain": [
              "<Figure size 720x288 with 1 Axes>"
            ]
          },
          "metadata": {
            "tags": [],
            "needs_background": "light"
          }
        }
      ]
    },
    {
      "cell_type": "markdown",
      "metadata": {
        "id": "V6AcTbRoAhvx"
      },
      "source": [
        "#### **Final values for parameters k0 and k1.**"
      ]
    },
    {
      "cell_type": "code",
      "metadata": {
        "colab": {
          "base_uri": "https://localhost:8080/"
        },
        "id": "DGlGhd5d4dOB",
        "outputId": "4ef42d3e-8ed8-4f37-afda-6b03e861e752"
      },
      "source": [
        "print(\"k0:\", k0)\n",
        "print(\"k1:\", k1)"
      ],
      "execution_count": 39,
      "outputs": [
        {
          "output_type": "stream",
          "text": [
            "k0: [0.36077743]\n",
            "k1: [0.82785261]\n"
          ],
          "name": "stdout"
        }
      ]
    },
    {
      "cell_type": "code",
      "metadata": {
        "id": "udFhNE3E1DOj"
      },
      "source": [
        "def make_predictions(X, W1, b1, W2, b2, W3, b3, k0, k1):\n",
        "  Z1, A1, Z2, A2, Z3, A3 = forward_prop(W1, b1, W2, b2, W3, b3, k0, k1, X)\n",
        "  predict_labels = get_predictions(A3)\n",
        "  return predict_labels"
      ],
      "execution_count": 40,
      "outputs": []
    },
    {
      "cell_type": "markdown",
      "metadata": {
        "id": "U4wGl3vYIsu-"
      },
      "source": [
        "**F1-Score.**"
      ]
    },
    {
      "cell_type": "code",
      "metadata": {
        "id": "ehqp08En2HCA",
        "colab": {
          "base_uri": "https://localhost:8080/"
        },
        "outputId": "fdcb8a59-1d55-4943-fe12-8c6f84fa908d"
      },
      "source": [
        "prdicted_labels = make_predictions(test_data, W1, b1, W2, b2, W3, b3, k0, k1)\n",
        "ture_labels = test_labels\n",
        "print(f1_score(ture_labels, prdicted_labels, average='weighted'))"
      ],
      "execution_count": 41,
      "outputs": [
        {
          "output_type": "stream",
          "text": [
            "0.8465566678080639\n"
          ],
          "name": "stdout"
        }
      ]
    },
    {
      "cell_type": "code",
      "metadata": {
        "id": "5Xmr67nfApEI"
      },
      "source": [
        ""
      ],
      "execution_count": null,
      "outputs": []
    }
  ]
}